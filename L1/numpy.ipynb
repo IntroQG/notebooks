{
 "cells": [
  {
   "cell_type": "markdown",
   "metadata": {},
   "source": [
    "# A few more useful NumPy functions\n",
    "\n",
    "In this course we focus more on using simple numerical models and solving equations, rather than on loading and manipulating data files.\n",
    "Thus, one of the things we will often need to do is create an array for a variable that has a range from one value to another.\n",
    "There are two handy NumPy functions we can use for this, which we introduce below."
   ]
  },
  {
   "cell_type": "markdown",
   "metadata": {},
   "source": [
    "## Getting started\n",
    "\n",
    "As always, we should start by importing NumPy."
   ]
  },
  {
   "cell_type": "code",
   "execution_count": null,
   "metadata": {},
   "outputs": [],
   "source": []
  },
  {
   "cell_type": "markdown",
   "metadata": {},
   "source": [
    "### Defining arrays with a fixed number of increments\n",
    "\n",
    "Let's say that we want to calculate the `sin()` of a variable `x` at 10 points from 0 to $2 \\pi$.\n",
    "We can do this as follows."
   ]
  },
  {
   "cell_type": "code",
   "execution_count": null,
   "metadata": {},
   "outputs": [],
   "source": []
  },
  {
   "cell_type": "code",
   "execution_count": null,
   "metadata": {},
   "outputs": [],
   "source": []
  },
  {
   "cell_type": "markdown",
   "metadata": {},
   "source": [
    "`np.linspace()` is a NumPy function that will create an array that starts at one value, ends at another, and uses a fixed number of steps between the values.\n",
    "The general syntax is of the form\n",
    "\n",
    "```python\n",
    "np.linspace(start, stop, num)\n",
    "```\n",
    "\n",
    "where `start` will be the first value in the array, `stop` will be the last, and `num` is total number of values in the array, with steps that are divided equally between `start` and `stop`.\n",
    "\n",
    "With `x` defined, we can now move on to calculating `sin(x)`."
   ]
  },
  {
   "cell_type": "code",
   "execution_count": null,
   "metadata": {},
   "outputs": [],
   "source": []
  },
  {
   "cell_type": "code",
   "execution_count": null,
   "metadata": {},
   "outputs": [],
   "source": []
  },
  {
   "cell_type": "markdown",
   "metadata": {},
   "source": [
    "In this case, x starts at zero and goes to $2 \\pi$ in 10 increments, and `y` is simply the sine function at those values of `x`."
   ]
  },
  {
   "cell_type": "markdown",
   "metadata": {},
   "source": [
    "### Defining arrays with a fixed increment between values\n",
    "\n",
    "Alternatively, if we wanted to specify the size of the increments for a new variable `x2`, we could use the `np.arange()` function."
   ]
  },
  {
   "cell_type": "code",
   "execution_count": null,
   "metadata": {},
   "outputs": [],
   "source": []
  },
  {
   "cell_type": "code",
   "execution_count": null,
   "metadata": {},
   "outputs": [],
   "source": []
  },
  {
   "cell_type": "markdown",
   "metadata": {},
   "source": [
    "In this case, `x2` starts at zero and goes to the largest value that is smaller than $2 \\pi$ in increments of 0.5.\n",
    "`np.arange()` is similar to the `linspace()` function in the sense that it can be used to create arrays of values.\n",
    "The difference is that here we specify the size of the increment (or step) between values, rather than the number of values in the array.\n",
    "Thus, the syntax is\n",
    "\n",
    "```python\n",
    "np.arange(start, stop, step)\n",
    "```\n",
    "\n",
    "where `start` will be the first value in the array, `stop` will be excluded from the array, and `step` is the size of the increment between array values.\n",
    "With this function, the last value in the array will be the largest multiple of `step` that is smaller than `stop`.\n",
    "\n",
    "Both `np.linspace()` and `np.arange()` array creation options can be useful in different situations."
   ]
  }
 ],
 "metadata": {
  "kernelspec": {
   "display_name": "Python 3",
   "language": "python",
   "name": "python3"
  },
  "language_info": {
   "codemirror_mode": {
    "name": "ipython",
    "version": 3
   },
   "file_extension": ".py",
   "mimetype": "text/x-python",
   "name": "python",
   "nbconvert_exporter": "python",
   "pygments_lexer": "ipython3",
   "version": "3.6.4"
  }
 },
 "nbformat": 4,
 "nbformat_minor": 2
}
